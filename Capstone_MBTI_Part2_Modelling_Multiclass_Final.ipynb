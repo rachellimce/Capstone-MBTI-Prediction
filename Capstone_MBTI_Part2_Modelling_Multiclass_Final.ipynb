{
 "cells": [
  {
   "cell_type": "markdown",
   "metadata": {
    "id": "xb0lUf-JrZfW"
   },
   "source": [
    "\n",
    "\n",
    "# DSI - 16 Capstone Project -  Personality Prediction \n",
    "\n",
    "## **Part 2 - Multiclass Modelling**"
   ]
  },
  {
   "cell_type": "markdown",
   "metadata": {
    "toc": true
   },
   "source": [
    "<h1>Table of Contents<span class=\"tocSkip\"></span></h1>\n",
    "<div class=\"toc\"><ul class=\"toc-item\"><li><span><a href=\"#Part-2---Multiclass-Modelling\" data-toc-modified-id=\"Part-2---Multiclass-Modelling-1\"><strong>Part 2 - Multiclass Modelling</strong></a></span></li><li><span><a href=\"#Notebook-Organization\" data-toc-modified-id=\"Notebook-Organization-2\">Notebook Organization</a></span><ul class=\"toc-item\"><li><span><a href=\"#Modelling-with-Hyperparameter-tuning-and-Vectorizers\" data-toc-modified-id=\"Modelling-with-Hyperparameter-tuning-and-Vectorizers-2.1\">Modelling with Hyperparameter tuning and Vectorizers</a></span></li><li><span><a href=\"#Resampling-with-SMOTE-and-SMOTETomek-to-tackle-imbalanced-classes\" data-toc-modified-id=\"Resampling-with-SMOTE-and-SMOTETomek-to-tackle-imbalanced-classes-2.2\">Resampling with SMOTE and SMOTETomek to tackle imbalanced classes</a></span></li><li><span><a href=\"#Performance-Metrics\" data-toc-modified-id=\"Performance-Metrics-2.3\">Performance Metrics</a></span></li></ul></li><li><span><a href=\"#Reading-in-the-cleaned-data\" data-toc-modified-id=\"Reading-in-the-cleaned-data-3\">Reading in the cleaned data</a></span></li><li><span><a href=\"#Data-Preprocessing\" data-toc-modified-id=\"Data-Preprocessing-4\">Data Preprocessing</a></span><ul class=\"toc-item\"><li><span><a href=\"#Train-Test-Split\" data-toc-modified-id=\"Train-Test-Split-4.1\">Train Test Split</a></span></li><li><span><a href=\"#Term-Frequency-Inverse-Document-Frequency-(TF-IDF)-Vectorizer-using-SpaCy\" data-toc-modified-id=\"Term-Frequency-Inverse-Document-Frequency-(TF-IDF)-Vectorizer-using-SpaCy-4.2\">Term Frequency-Inverse Document Frequency (TF-IDF) Vectorizer using SpaCy</a></span></li></ul></li><li><span><a href=\"#Modelling\" data-toc-modified-id=\"Modelling-5\">Modelling</a></span><ul class=\"toc-item\"><li><span><a href=\"#User-Defined-Functions\" data-toc-modified-id=\"User-Defined-Functions-5.1\">User Defined Functions</a></span></li><li><span><a href=\"#Baseline-Model\" data-toc-modified-id=\"Baseline-Model-5.2\">Baseline Model</a></span></li><li><span><a href=\"#Logistic-Regression\" data-toc-modified-id=\"Logistic-Regression-5.3\">Logistic Regression</a></span></li><li><span><a href=\"#Naive-Bayes\" data-toc-modified-id=\"Naive-Bayes-5.4\">Naive Bayes</a></span></li><li><span><a href=\"#Random-Forest\" data-toc-modified-id=\"Random-Forest-5.5\">Random Forest</a></span></li><li><span><a href=\"#XGBoost\" data-toc-modified-id=\"XGBoost-5.6\">XGBoost</a></span></li><li><span><a href=\"#Summary-of-Model-Performance\" data-toc-modified-id=\"Summary-of-Model-Performance-5.7\">Summary of Model Performance</a></span></li></ul></li></ul></div>"
   ]
  },
  {
   "cell_type": "markdown",
   "metadata": {
    "id": "6wE3QvHZPN3o"
   },
   "source": [
    "## Notebook Organization\n",
    "\n",
    "This project is organized into 3 different notebooks with the following parts\n",
    "\n",
    "- Part 1: [Loading in the dataset, EDA and data-preprocessing](Capstone_Personality_Prediction_EDA_SpaCy_.ipynb)\n",
    "- **Part 2: Multi Class Modelling (16 Classes for the personality type)**\n",
    "- Part 3: [Binary Class Modelling (4 Binary Classification based on each I-E, N-S, T-F, J-P axes)](Capstone_Personality_Prediction_Binary_Modelling.ipynb)\n",
    "\n",
    "In this notebook, we create a multiclass classifier for the 16 personlity types.\n",
    "\n",
    "### Modelling with Hyperparameter tuning and Vectorizers\n",
    "\n",
    "We will use ```TfidfVectorizer()``` to transform the data before fitting into the following models:\n",
    "\n",
    "1. Logistic Regression\n",
    "2. Naive Bayes\n",
    "3. Random Forest\n",
    "4. XGBoost\n",
    "\n",
    "The models will be run with **hyperparameters tuning** for the various model using GridSearch on 5-folds Cross Validation\n",
    "\n",
    "\n",
    "### Resampling with SMOTE and SMOTETomek to tackle imbalanced classes\n",
    "\n",
    "As we have seen, the dataset we are working with has a highly uneven distribution of classes. When it comes to classification, it is important to train our model with a balanced dataset so that our model does not become biased towards predicting a particular class.\n",
    "\n",
    "Oversampling and undersampling are two ways in which we can adjust the distribution of classes. \n",
    "\n",
    "For this project I have used SMOTETomek to perform over-sampling using SMOTE and cleaning using Tomek links. Then combine over- and under-sampling using SMOTE and Tomek links to create a more balanced dataset\n",
    "\n",
    "---\n",
    "\n",
    "Each model was ran via a Pipeline and GridSearch set-up to perform a 5 fold cross validation process. \n",
    "The pipeline consisted of 2 steps:\n",
    "\n",
    "1. Resampling both classes via SMOTETomek\n",
    "\n",
    "2. Classification via the selected model\n",
    "\n",
    "GridSearch was used to find the optimal hyperparameters out of the range of values passed, with the expectation that it would lead to better model performance compared to using the default hyperparameter values.\n",
    "\n",
    "\n",
    "### Performance Metrics\n",
    "\n",
    "As this is a multiclass model, we will see how the model performed based on:\n",
    "\n",
    "**1) F1-Score**\n",
    "   - The F1 score can be interpreted as a weighted average of the precision and recall values, where an \n",
    "   - F1 score reaches its best value at 1 and worst value at 0.\n",
    "    \n",
    "**2) Matthews Correlation Coefficient (MCC)** \n",
    "   - What is the correlation coefficient between the observed and predicted classification --  \n",
    "   - the  higher the score indicates that the model was able to correctly predict the majority of various data instances\n",
    "   "
   ]
  },
  {
   "cell_type": "code",
   "execution_count": 1,
   "metadata": {
    "colab": {
     "base_uri": "https://localhost:8080/",
     "height": 280
    },
    "id": "Td7ioi2erZfa",
    "outputId": "90e9ea77-a430-473e-f91d-c2356cef5ad5"
   },
   "outputs": [],
   "source": [
    "import pandas as pd\n",
    "pd.set_option('max_columns', 500) \n",
    "pd.set_option('max_rows', 500) \n",
    "pd.set_option('display.max_colwidth', 300)\n",
    "pd.options.display.float_format = \"{:,.3f}\".format\n",
    "\n",
    "import numpy as np\n",
    "\n",
    "# Visualization Imports\n",
    "import matplotlib.pyplot as plt\n",
    "from matplotlib.lines import Line2D\n",
    "%matplotlib inline\n",
    "import seaborn as sns\n",
    "sns.set_style('darkgrid')\n",
    "# sns.set_style(\"whitegrid\")\n",
    "\n",
    "#API imports\n",
    "import requests\n",
    "import time\n",
    "import random\n",
    "\n",
    "from collections import Counter\n",
    "from bs4 import BeautifulSoup\n",
    "\n",
    "#Regex\n",
    "import regex as re\n",
    "\n",
    "#nlp\n",
    "import nltk\n",
    "#nltk.download('stopwords')\n",
    "from nltk.corpus import stopwords\n",
    "\n",
    "\n",
    "from nltk.stem import WordNetLemmatizer\n",
    "\n",
    "from nltk.tokenize import RegexpTokenizer\n",
    "from nltk.stem.porter import PorterStemmer\n",
    "from nltk.stem.snowball import SnowballStemmer\n",
    "from nltk.util import ngrams\n",
    "\n",
    "\n",
    "# Using SpaCy\n",
    "import string\n",
    "import spacy\n",
    "from spacy.lang.en.stop_words import STOP_WORDS\n",
    "from spacy.lang.en import English\n",
    "\n",
    "# Gensim\n",
    "\n",
    "import gensim, spacy, logging, warnings\n",
    "import gensim.corpora as corpora\n",
    "from gensim.utils import lemmatize, simple_preprocess\n",
    "from gensim.models import CoherenceModel\n",
    "from gensim.models.doc2vec import TaggedDocument\n",
    "\n",
    "#word cloud\n",
    "from os import path\n",
    "from PIL import Image\n",
    "from wordcloud import WordCloud, STOPWORDS, ImageColorGenerator\n",
    "\n",
    "#Feature Extraction\n",
    "from sklearn.feature_extraction.text import CountVectorizer, TfidfVectorizer, HashingVectorizer\n",
    "from sklearn import utils\n",
    "\n",
    "#Modelling\n",
    "from sklearn.model_selection import train_test_split, GridSearchCV, RandomizedSearchCV\n",
    "\n",
    "#Classification Models\n",
    "from sklearn.linear_model import LogisticRegression\n",
    "from sklearn.neighbors import KNeighborsClassifier\n",
    "from sklearn.naive_bayes import MultinomialNB\n",
    "from sklearn.svm import SVC\n",
    "\n",
    "\n",
    "#Imbalance Data and Ensemble Models\n",
    "from imblearn.pipeline import Pipeline\n",
    "from imblearn.over_sampling import SMOTE\n",
    "from imblearn.combine import SMOTETomek\n",
    "from imblearn.ensemble import BalancedRandomForestClassifier\n",
    "from imblearn.over_sampling import ADASYN\n",
    "\n",
    "from sklearn.ensemble import RandomForestClassifier, ExtraTreesClassifier, GradientBoostingClassifier, AdaBoostClassifier, BaggingClassifier\n",
    "from xgboost import XGBClassifier\n",
    "\n",
    "#==== Classification matrix\n",
    "from sklearn.metrics import f1_score, classification_report, accuracy_score, matthews_corrcoef, roc_curve\n",
    "from sklearn.metrics import plot_confusion_matrix, confusion_matrix, ConfusionMatrixDisplay\n",
    "from sklearn.metrics import plot_roc_curve, auc, roc_auc_score, RocCurveDisplay\n",
    "\n",
    "\n"
   ]
  },
  {
   "cell_type": "markdown",
   "metadata": {
    "id": "Je0yW3-qrZfi"
   },
   "source": [
    "## Reading in the cleaned data"
   ]
  },
  {
   "cell_type": "code",
   "execution_count": 2,
   "metadata": {
    "colab": {
     "base_uri": "https://localhost:8080/",
     "height": 35
    },
    "id": "MFcE0M_F-Gfy",
    "outputId": "68c87f8b-d431-4877-8fc1-2a0f30deb4cd"
   },
   "outputs": [],
   "source": [
    "#from google.colab import drive\n",
    "#drive.mount('/content/drive')"
   ]
  },
  {
   "cell_type": "code",
   "execution_count": 3,
   "metadata": {
    "id": "KUDkSyrZrZfj"
   },
   "outputs": [],
   "source": [
    "#df = pd.read_csv('/content/drive/My Drive/Data Science/GA DSI/Working files/DSI Working/Project1234/Project-capstone project/datasets/mbti_cleaned.csv')\n",
    "df = pd.read_csv('data/mbti_cleaned.csv')"
   ]
  },
  {
   "cell_type": "code",
   "execution_count": 4,
   "metadata": {
    "colab": {
     "base_uri": "https://localhost:8080/",
     "height": 35
    },
    "id": "JhR3iBqIrZfn",
    "outputId": "c4441b75-550d-4557-f646-eb4e1c1eb0ad"
   },
   "outputs": [
    {
     "data": {
      "text/plain": [
       "(8675, 14)"
      ]
     },
     "execution_count": 4,
     "metadata": {},
     "output_type": "execute_result"
    }
   ],
   "source": [
    "df.shape"
   ]
  },
  {
   "cell_type": "markdown",
   "metadata": {
    "id": "IUDcZfK2rZfs"
   },
   "source": [
    "This dataset contains 8675 rows of data, on each row is a person’s:\n",
    "\n",
    "- Type (This persons 4 letter MBTI code/type)\n",
    "- A section of each of the last 50 things they have posted (Each entry separated by \"|||\" (3 pipe characters))"
   ]
  },
  {
   "cell_type": "code",
   "execution_count": 5,
   "metadata": {
    "colab": {
     "base_uri": "https://localhost:8080/",
     "height": 1000
    },
    "id": "Kj7qplxxrZft",
    "outputId": "95970cea-0688-4be6-8246-bbff0bca8a36",
    "scrolled": true
   },
   "outputs": [
    {
     "data": {
      "text/html": [
       "<div>\n",
       "<style scoped>\n",
       "    .dataframe tbody tr th:only-of-type {\n",
       "        vertical-align: middle;\n",
       "    }\n",
       "\n",
       "    .dataframe tbody tr th {\n",
       "        vertical-align: top;\n",
       "    }\n",
       "\n",
       "    .dataframe thead th {\n",
       "        text-align: right;\n",
       "    }\n",
       "</style>\n",
       "<table border=\"1\" class=\"dataframe\">\n",
       "  <thead>\n",
       "    <tr style=\"text-align: right;\">\n",
       "      <th></th>\n",
       "      <th>Unnamed: 0</th>\n",
       "      <th>type</th>\n",
       "      <th>posts</th>\n",
       "      <th>num_posts</th>\n",
       "      <th>words_per_comment</th>\n",
       "      <th>nouns_per_commment</th>\n",
       "      <th>verbs_per_comment</th>\n",
       "      <th>adj_per_comment</th>\n",
       "      <th>interject_per_comment</th>\n",
       "      <th>cleaned_str</th>\n",
       "      <th>ie</th>\n",
       "      <th>ns</th>\n",
       "      <th>tf</th>\n",
       "      <th>jp</th>\n",
       "    </tr>\n",
       "  </thead>\n",
       "  <tbody>\n",
       "    <tr>\n",
       "      <th>0</th>\n",
       "      <td>0</td>\n",
       "      <td>INFJ</td>\n",
       "      <td>'http://www.youtube.com/watch?v=qsXHcwe3krw|||http://41.media.tumblr.com/tumblr_lfouy03PMA1qa1rooo1_500.jpg|||enfp and intj moments  https://www.youtube.com/watch?v=iz7lE1g4XM4  sportscenter not top ten plays  https://www.youtube.com/watch?v=uCdfze1etec  pranks|||What has been the most life-chan...</td>\n",
       "      <td>50</td>\n",
       "      <td>16.060</td>\n",
       "      <td>2.620</td>\n",
       "      <td>1.520</td>\n",
       "      <td>1.100</td>\n",
       "      <td>0.140</td>\n",
       "      <td>urlstr moments urlstr sportscenter top ten plays urlstr pranks life changing experience life urlstr urlstr repeat today may perc experience immerse last thing friend posted facebook committing suicide next day rest peace urlstr enfj7 sorry hear distress natural relationship perfection time every...</td>\n",
       "      <td>I</td>\n",
       "      <td>N</td>\n",
       "      <td>F</td>\n",
       "      <td>J</td>\n",
       "    </tr>\n",
       "    <tr>\n",
       "      <th>1</th>\n",
       "      <td>1</td>\n",
       "      <td>ENTP</td>\n",
       "      <td>'I'm finding the lack of me in these posts very alarming.|||Sex can be boring if it's in the same position often. For example me and my girlfriend are currently in an environment where we have to creatively use cowgirl and missionary. There isn't enough...|||Giving new meaning to 'Game' theory.|...</td>\n",
       "      <td>50</td>\n",
       "      <td>26.820</td>\n",
       "      <td>3.520</td>\n",
       "      <td>3.620</td>\n",
       "      <td>1.760</td>\n",
       "      <td>0.200</td>\n",
       "      <td>finding lack posts alarming sex boring position often example girlfriend currently environment creatively use cowgirl missionary enough giving new meaning game theory hello grin takes converse flirting acknowledge presence return words smooth wordplay cheeky grins lack balance hand eye coordinat...</td>\n",
       "      <td>E</td>\n",
       "      <td>N</td>\n",
       "      <td>T</td>\n",
       "      <td>P</td>\n",
       "    </tr>\n",
       "    <tr>\n",
       "      <th>2</th>\n",
       "      <td>2</td>\n",
       "      <td>INTP</td>\n",
       "      <td>'Good one  _____   https://www.youtube.com/watch?v=fHiGbolFFGw|||Of course, to which I say I know; that's my blessing and my curse.|||Does being absolutely positive that you and your best friend could be an amazing couple count? If so, than yes.   Or it's more I could be madly in love in case I ...</td>\n",
       "      <td>50</td>\n",
       "      <td>18.660</td>\n",
       "      <td>3.000</td>\n",
       "      <td>2.540</td>\n",
       "      <td>1.580</td>\n",
       "      <td>0.240</td>\n",
       "      <td>good one urlstr course say know blessing curse absolutely positive best friend could amazing couple count yes could madly love case reconciled feelings thank link called ti si loop stem current topic obsession deadly like stuck thoughts mind wanders circles feels truly terrible noticed peculiar ...</td>\n",
       "      <td>I</td>\n",
       "      <td>N</td>\n",
       "      <td>T</td>\n",
       "      <td>P</td>\n",
       "    </tr>\n",
       "    <tr>\n",
       "      <th>3</th>\n",
       "      <td>3</td>\n",
       "      <td>INTJ</td>\n",
       "      <td>'Dear INTP,   I enjoyed our conversation the other day.  Esoteric gabbing about the nature of the universe and the idea that every rule and social code being arbitrary constructs created...|||Dear ENTJ sub,   Long time no see.  Sincerely, Alpha|||None of them. All other types hurt in deep existe...</td>\n",
       "      <td>50</td>\n",
       "      <td>23.520</td>\n",
       "      <td>3.420</td>\n",
       "      <td>3.020</td>\n",
       "      <td>1.720</td>\n",
       "      <td>0.180</td>\n",
       "      <td>dear enjoyed conversation day esoteric gabbing nature universe idea every rule social code arbitrary constructs created dear sub long time see sincerely alpha none types hurt deep existential ways want part probably sliding scale depends individual preferences like everything humanity draco malf...</td>\n",
       "      <td>I</td>\n",
       "      <td>N</td>\n",
       "      <td>T</td>\n",
       "      <td>J</td>\n",
       "    </tr>\n",
       "    <tr>\n",
       "      <th>4</th>\n",
       "      <td>4</td>\n",
       "      <td>ENTJ</td>\n",
       "      <td>'You're fired.|||That's another silly misconception. That approaching is logically is going to be the key to unlocking whatever it is you think you are entitled to.   Nobody wants to be approached with BS...|||But guys... he REALLY wants to go on a super-duper-long-ass vacation. C'mon guys. His ...</td>\n",
       "      <td>50</td>\n",
       "      <td>21.880</td>\n",
       "      <td>3.480</td>\n",
       "      <td>2.740</td>\n",
       "      <td>1.800</td>\n",
       "      <td>0.200</td>\n",
       "      <td>fired another silly misconception approaching logically going key unlocking whatever think entitled nobody wants approached bs guys really wants go super duper long ass vacation c mon guys boss listen get even approached logically everything never mind go permanent vacation two months crazy idea...</td>\n",
       "      <td>E</td>\n",
       "      <td>N</td>\n",
       "      <td>T</td>\n",
       "      <td>J</td>\n",
       "    </tr>\n",
       "    <tr>\n",
       "      <th>5</th>\n",
       "      <td>5</td>\n",
       "      <td>INTJ</td>\n",
       "      <td>'18/37 @.@|||Science  is not perfect. No scientist claims that it is, or that scientific  information will not be revised as we discover new things.  Rational  thinking has been very useful to our society....|||INFP- Edgar Allen Poe was an INFP and he's in your siggy.|||People see the obvious Fi...</td>\n",
       "      <td>50</td>\n",
       "      <td>31.700</td>\n",
       "      <td>4.460</td>\n",
       "      <td>4.700</td>\n",
       "      <td>2.080</td>\n",
       "      <td>0.140</td>\n",
       "      <td>18 37 science perfect scientist claims scientific information revised discover new things rational thinking useful society edgar allen poe siggy people see obvious fi quick put agree ne see compare haku definite flat naruto lets get party started 66314 say disproved god merely said found methods...</td>\n",
       "      <td>I</td>\n",
       "      <td>N</td>\n",
       "      <td>T</td>\n",
       "      <td>J</td>\n",
       "    </tr>\n",
       "    <tr>\n",
       "      <th>6</th>\n",
       "      <td>6</td>\n",
       "      <td>INFJ</td>\n",
       "      <td>'No, I can't draw on my own nails (haha). Those were done by professionals on my nails. And yes, those are all gel.  You mean those you posted were done by yourself on your own nails? Awesome!|||Probably the Electronic Screen Syndrome. With the advent of technology and social media, we all suffe...</td>\n",
       "      <td>50</td>\n",
       "      <td>29.020</td>\n",
       "      <td>4.520</td>\n",
       "      <td>3.980</td>\n",
       "      <td>2.160</td>\n",
       "      <td>0.240</td>\n",
       "      <td>draw nails haha done professionals nails yes gel mean posted done nails awesome probably electronic screen syndrome advent technology social media suffer overstimulation daily basis guilty well past happy love nail arts mine 718282 718290 718298 718306 718314 first time hearing menstruation chur...</td>\n",
       "      <td>I</td>\n",
       "      <td>N</td>\n",
       "      <td>F</td>\n",
       "      <td>J</td>\n",
       "    </tr>\n",
       "    <tr>\n",
       "      <th>7</th>\n",
       "      <td>7</td>\n",
       "      <td>INTJ</td>\n",
       "      <td>'I tend to build up a collection of things on my desktop that i use frequently and then move them into a folder called  'Everything' from there it get sorted into type and sub type|||i ike to collect odd objects, even at work...a lot of people would call it junk but i like to collect it.  Old un...</td>\n",
       "      <td>50</td>\n",
       "      <td>25.620</td>\n",
       "      <td>3.880</td>\n",
       "      <td>4.340</td>\n",
       "      <td>1.600</td>\n",
       "      <td>0.260</td>\n",
       "      <td>tend build collection things desktop use frequently move folder called everything get sorted type sub type ike collect odd objects even work lot people would call junk like collect old unused software ill take hands bunch old adobe think quite normal tend see friends real life every couple month...</td>\n",
       "      <td>I</td>\n",
       "      <td>N</td>\n",
       "      <td>T</td>\n",
       "      <td>J</td>\n",
       "    </tr>\n",
       "    <tr>\n",
       "      <th>8</th>\n",
       "      <td>8</td>\n",
       "      <td>INFJ</td>\n",
       "      <td>I'm not sure, that's a good question. The distinction between the two is so dependant on perception. To quote Robb Flynn, ''The hate you feel is nothing more, than love you feel to win this war.''|||Good question! It's tough to say for sure but I loved Winona Ryder as Lydia in Beetlejuice...  ht...</td>\n",
       "      <td>50</td>\n",
       "      <td>19.320</td>\n",
       "      <td>2.460</td>\n",
       "      <td>2.120</td>\n",
       "      <td>1.380</td>\n",
       "      <td>0.060</td>\n",
       "      <td>sure good question distinction two dependant perception quote robb flynn hate feel nothing love feel win war good question tough say sure loved winona ryder lydia beetlejuice urlstr lonely much time working changing think one way trying find positive everything matter bleak might seem hope look ...</td>\n",
       "      <td>I</td>\n",
       "      <td>N</td>\n",
       "      <td>F</td>\n",
       "      <td>J</td>\n",
       "    </tr>\n",
       "    <tr>\n",
       "      <th>9</th>\n",
       "      <td>9</td>\n",
       "      <td>INTP</td>\n",
       "      <td>'https://www.youtube.com/watch?v=w8-egj0y8Qs|||I'm in this position where I have to actually let go of the person, due to a various reasons. Unfortunately I'm having trouble mustering enough strength to actually pull through it. Sometimes,...|||WHAT A YEAR, MAN. WHAT A YEAR.   I am just utterly ...</td>\n",
       "      <td>50</td>\n",
       "      <td>27.360</td>\n",
       "      <td>4.320</td>\n",
       "      <td>3.680</td>\n",
       "      <td>2.060</td>\n",
       "      <td>0.140</td>\n",
       "      <td>urlstr position actually let go person due various reasons unfortunately trouble mustering enough strength actually pull sometimes year man year utterly bewildered 20s point laundry long got clothes left wear fine time comes run left contend mountain laundry pile sent apollo urlstr back office h...</td>\n",
       "      <td>I</td>\n",
       "      <td>N</td>\n",
       "      <td>T</td>\n",
       "      <td>P</td>\n",
       "    </tr>\n",
       "  </tbody>\n",
       "</table>\n",
       "</div>"
      ],
      "text/plain": [
       "   Unnamed: 0  type  \\\n",
       "0           0  INFJ   \n",
       "1           1  ENTP   \n",
       "2           2  INTP   \n",
       "3           3  INTJ   \n",
       "4           4  ENTJ   \n",
       "5           5  INTJ   \n",
       "6           6  INFJ   \n",
       "7           7  INTJ   \n",
       "8           8  INFJ   \n",
       "9           9  INTP   \n",
       "\n",
       "                                                                                                                                                                                                                                                                                                         posts  \\\n",
       "0  'http://www.youtube.com/watch?v=qsXHcwe3krw|||http://41.media.tumblr.com/tumblr_lfouy03PMA1qa1rooo1_500.jpg|||enfp and intj moments  https://www.youtube.com/watch?v=iz7lE1g4XM4  sportscenter not top ten plays  https://www.youtube.com/watch?v=uCdfze1etec  pranks|||What has been the most life-chan...   \n",
       "1  'I'm finding the lack of me in these posts very alarming.|||Sex can be boring if it's in the same position often. For example me and my girlfriend are currently in an environment where we have to creatively use cowgirl and missionary. There isn't enough...|||Giving new meaning to 'Game' theory.|...   \n",
       "2  'Good one  _____   https://www.youtube.com/watch?v=fHiGbolFFGw|||Of course, to which I say I know; that's my blessing and my curse.|||Does being absolutely positive that you and your best friend could be an amazing couple count? If so, than yes.   Or it's more I could be madly in love in case I ...   \n",
       "3  'Dear INTP,   I enjoyed our conversation the other day.  Esoteric gabbing about the nature of the universe and the idea that every rule and social code being arbitrary constructs created...|||Dear ENTJ sub,   Long time no see.  Sincerely, Alpha|||None of them. All other types hurt in deep existe...   \n",
       "4  'You're fired.|||That's another silly misconception. That approaching is logically is going to be the key to unlocking whatever it is you think you are entitled to.   Nobody wants to be approached with BS...|||But guys... he REALLY wants to go on a super-duper-long-ass vacation. C'mon guys. His ...   \n",
       "5  '18/37 @.@|||Science  is not perfect. No scientist claims that it is, or that scientific  information will not be revised as we discover new things.  Rational  thinking has been very useful to our society....|||INFP- Edgar Allen Poe was an INFP and he's in your siggy.|||People see the obvious Fi...   \n",
       "6  'No, I can't draw on my own nails (haha). Those were done by professionals on my nails. And yes, those are all gel.  You mean those you posted were done by yourself on your own nails? Awesome!|||Probably the Electronic Screen Syndrome. With the advent of technology and social media, we all suffe...   \n",
       "7  'I tend to build up a collection of things on my desktop that i use frequently and then move them into a folder called  'Everything' from there it get sorted into type and sub type|||i ike to collect odd objects, even at work...a lot of people would call it junk but i like to collect it.  Old un...   \n",
       "8  I'm not sure, that's a good question. The distinction between the two is so dependant on perception. To quote Robb Flynn, ''The hate you feel is nothing more, than love you feel to win this war.''|||Good question! It's tough to say for sure but I loved Winona Ryder as Lydia in Beetlejuice...  ht...   \n",
       "9  'https://www.youtube.com/watch?v=w8-egj0y8Qs|||I'm in this position where I have to actually let go of the person, due to a various reasons. Unfortunately I'm having trouble mustering enough strength to actually pull through it. Sometimes,...|||WHAT A YEAR, MAN. WHAT A YEAR.   I am just utterly ...   \n",
       "\n",
       "   num_posts  words_per_comment  nouns_per_commment  verbs_per_comment  \\\n",
       "0         50             16.060               2.620              1.520   \n",
       "1         50             26.820               3.520              3.620   \n",
       "2         50             18.660               3.000              2.540   \n",
       "3         50             23.520               3.420              3.020   \n",
       "4         50             21.880               3.480              2.740   \n",
       "5         50             31.700               4.460              4.700   \n",
       "6         50             29.020               4.520              3.980   \n",
       "7         50             25.620               3.880              4.340   \n",
       "8         50             19.320               2.460              2.120   \n",
       "9         50             27.360               4.320              3.680   \n",
       "\n",
       "   adj_per_comment  interject_per_comment  \\\n",
       "0            1.100                  0.140   \n",
       "1            1.760                  0.200   \n",
       "2            1.580                  0.240   \n",
       "3            1.720                  0.180   \n",
       "4            1.800                  0.200   \n",
       "5            2.080                  0.140   \n",
       "6            2.160                  0.240   \n",
       "7            1.600                  0.260   \n",
       "8            1.380                  0.060   \n",
       "9            2.060                  0.140   \n",
       "\n",
       "                                                                                                                                                                                                                                                                                                   cleaned_str  \\\n",
       "0  urlstr moments urlstr sportscenter top ten plays urlstr pranks life changing experience life urlstr urlstr repeat today may perc experience immerse last thing friend posted facebook committing suicide next day rest peace urlstr enfj7 sorry hear distress natural relationship perfection time every...   \n",
       "1  finding lack posts alarming sex boring position often example girlfriend currently environment creatively use cowgirl missionary enough giving new meaning game theory hello grin takes converse flirting acknowledge presence return words smooth wordplay cheeky grins lack balance hand eye coordinat...   \n",
       "2  good one urlstr course say know blessing curse absolutely positive best friend could amazing couple count yes could madly love case reconciled feelings thank link called ti si loop stem current topic obsession deadly like stuck thoughts mind wanders circles feels truly terrible noticed peculiar ...   \n",
       "3  dear enjoyed conversation day esoteric gabbing nature universe idea every rule social code arbitrary constructs created dear sub long time see sincerely alpha none types hurt deep existential ways want part probably sliding scale depends individual preferences like everything humanity draco malf...   \n",
       "4  fired another silly misconception approaching logically going key unlocking whatever think entitled nobody wants approached bs guys really wants go super duper long ass vacation c mon guys boss listen get even approached logically everything never mind go permanent vacation two months crazy idea...   \n",
       "5  18 37 science perfect scientist claims scientific information revised discover new things rational thinking useful society edgar allen poe siggy people see obvious fi quick put agree ne see compare haku definite flat naruto lets get party started 66314 say disproved god merely said found methods...   \n",
       "6  draw nails haha done professionals nails yes gel mean posted done nails awesome probably electronic screen syndrome advent technology social media suffer overstimulation daily basis guilty well past happy love nail arts mine 718282 718290 718298 718306 718314 first time hearing menstruation chur...   \n",
       "7  tend build collection things desktop use frequently move folder called everything get sorted type sub type ike collect odd objects even work lot people would call junk like collect old unused software ill take hands bunch old adobe think quite normal tend see friends real life every couple month...   \n",
       "8  sure good question distinction two dependant perception quote robb flynn hate feel nothing love feel win war good question tough say sure loved winona ryder lydia beetlejuice urlstr lonely much time working changing think one way trying find positive everything matter bleak might seem hope look ...   \n",
       "9  urlstr position actually let go person due various reasons unfortunately trouble mustering enough strength actually pull sometimes year man year utterly bewildered 20s point laundry long got clothes left wear fine time comes run left contend mountain laundry pile sent apollo urlstr back office h...   \n",
       "\n",
       "  ie ns tf jp  \n",
       "0  I  N  F  J  \n",
       "1  E  N  T  P  \n",
       "2  I  N  T  P  \n",
       "3  I  N  T  J  \n",
       "4  E  N  T  J  \n",
       "5  I  N  T  J  \n",
       "6  I  N  F  J  \n",
       "7  I  N  T  J  \n",
       "8  I  N  F  J  \n",
       "9  I  N  T  P  "
      ]
     },
     "execution_count": 5,
     "metadata": {},
     "output_type": "execute_result"
    }
   ],
   "source": [
    "df.head(10)"
   ]
  },
  {
   "cell_type": "code",
   "execution_count": 6,
   "metadata": {
    "id": "vT9JIaiQrZfw"
   },
   "outputs": [],
   "source": [
    "df.drop(columns='Unnamed: 0', inplace=True)\n"
   ]
  },
  {
   "cell_type": "code",
   "execution_count": 7,
   "metadata": {
    "colab": {
     "base_uri": "https://localhost:8080/",
     "height": 87
    },
    "id": "Aa3ye0rgLuSw",
    "outputId": "c3cd0267-f587-49f9-ab9c-b0fde72b18a9"
   },
   "outputs": [
    {
     "data": {
      "text/plain": [
       "Index(['type', 'posts', 'num_posts', 'words_per_comment', 'nouns_per_commment',\n",
       "       'verbs_per_comment', 'adj_per_comment', 'interject_per_comment',\n",
       "       'cleaned_str', 'ie', 'ns', 'tf', 'jp'],\n",
       "      dtype='object')"
      ]
     },
     "execution_count": 7,
     "metadata": {},
     "output_type": "execute_result"
    }
   ],
   "source": [
    "df.columns"
   ]
  },
  {
   "cell_type": "markdown",
   "metadata": {
    "id": "aIcPz-PCrZo0"
   },
   "source": [
    "## Data Preprocessing"
   ]
  },
  {
   "cell_type": "markdown",
   "metadata": {
    "id": "SSdQwisVrZpQ"
   },
   "source": [
    "### Train Test Split"
   ]
  },
  {
   "cell_type": "code",
   "execution_count": 8,
   "metadata": {
    "id": "TDAbu6i_rZpR"
   },
   "outputs": [],
   "source": [
    "X = df['cleaned_str']\n",
    "y = df['type']"
   ]
  },
  {
   "cell_type": "code",
   "execution_count": 9,
   "metadata": {
    "id": "hWG_EPXbrZpV"
   },
   "outputs": [],
   "source": [
    "#Train test split with stratify\n",
    "X_train, X_val, y_train, y_val = train_test_split(X,y,random_state=42, stratify=y, test_size=0.33)"
   ]
  },
  {
   "cell_type": "code",
   "execution_count": 10,
   "metadata": {
    "colab": {
     "base_uri": "https://localhost:8080/",
     "height": 35
    },
    "id": "iskuLzCe9BiO",
    "outputId": "d6ba41ea-6064-4f98-8ce8-2f9189769cdc"
   },
   "outputs": [
    {
     "data": {
      "text/plain": [
       "pandas.core.series.Series"
      ]
     },
     "execution_count": 10,
     "metadata": {},
     "output_type": "execute_result"
    }
   ],
   "source": [
    "type(X_train)"
   ]
  },
  {
   "cell_type": "code",
   "execution_count": 11,
   "metadata": {
    "colab": {
     "base_uri": "https://localhost:8080/",
     "height": 35
    },
    "id": "y4x71KOXrZpY",
    "outputId": "3d731c01-f297-4c04-fa3c-fcbbb0c257ef"
   },
   "outputs": [
    {
     "data": {
      "text/plain": [
       "(5812,)"
      ]
     },
     "execution_count": 11,
     "metadata": {},
     "output_type": "execute_result"
    }
   ],
   "source": [
    "X_train.shape"
   ]
  },
  {
   "cell_type": "code",
   "execution_count": 12,
   "metadata": {
    "colab": {
     "base_uri": "https://localhost:8080/",
     "height": 35
    },
    "id": "34Mhp1BjrZpc",
    "outputId": "f1a9c0fd-d2ae-4f8f-e87f-a1735afe13c9"
   },
   "outputs": [
    {
     "data": {
      "text/plain": [
       "(2863,)"
      ]
     },
     "execution_count": 12,
     "metadata": {},
     "output_type": "execute_result"
    }
   ],
   "source": [
    "X_val.shape"
   ]
  },
  {
   "cell_type": "markdown",
   "metadata": {
    "id": "n2JH0VOSrZo1"
   },
   "source": [
    "### Term Frequency-Inverse Document Frequency (TF-IDF) Vectorizer using SpaCy\n",
    "\n",
    "TF-IDF is a score that tells us which words are important to one document, relative to all other documents. Words that occur often in one document but don't occur in many documents contain more predictive power.\n",
    "\n"
   ]
  },
  {
   "cell_type": "code",
   "execution_count": 74,
   "metadata": {
    "id": "4q8aQBCZMTnN"
   },
   "outputs": [],
   "source": [
    "# Create our list of stopwords\n",
    "nlp = spacy.load('en_core_web_sm')\n",
    "spacy_stop_words = spacy.lang.en.stop_words.STOP_WORDS\n",
    "\n",
    "#Create list of stop words on Personality types\n",
    "type_stopword = [x.lower() for x in df['type'].unique()]\n",
    "type_stopwords = type_stopword + [x + 's' for x in type_stopword]\n",
    "\n",
    "# Create our list of punctuation marks\n",
    "punctuations = string.punctuation\n",
    "\n",
    "# Load English tokenizer, tagger, parser, NER and word vectors\n",
    "parser = English()\n",
    "\n",
    "# Creating our tokenizer function\n",
    "def spacy_tokenizer(sentence):\n",
    "    # Creating our token object, which is used to create documents with linguistic annotations.\n",
    "    mytokens = parser(sentence)\n",
    "\n",
    "    # Lemmatizing each token and converting each token into lowercase\n",
    "    mytokens = [ word.lemma_.lower().strip() if word.lemma_ != \"-PRON-\" else word.lower_ for word in mytokens ]\n",
    "\n",
    "    # Removing stop words\n",
    "    mytokens = [ word for word in mytokens if \\\n",
    "                word not in spacy_stop_words and \\\n",
    "                word not in type_stopwords and \\\n",
    "                word not in punctuations ]\n",
    "\n",
    "    # return preprocessed list of tokens\n",
    "    return mytokens"
   ]
  },
  {
   "cell_type": "code",
   "execution_count": 75,
   "metadata": {
    "scrolled": true
   },
   "outputs": [
    {
     "name": "stderr",
     "output_type": "stream",
     "text": [
      "C:\\Users\\Rachel\\anaconda3\\lib\\site-packages\\sklearn\\feature_extraction\\text.py:484: UserWarning: The parameter 'token_pattern' will not be used since 'tokenizer' is not None'\n",
      "  warnings.warn(\"The parameter 'token_pattern' will not be used\"\n"
     ]
    },
    {
     "data": {
      "text/plain": [
       "71502"
      ]
     },
     "execution_count": 75,
     "metadata": {},
     "output_type": "execute_result"
    }
   ],
   "source": [
    "#Finding the total unique words in the whole corpus\n",
    "\n",
    "tvectotal = TfidfVectorizer(tokenizer=spacy_tokenizer, max_df=0.3).fit(X_train)\n",
    "len(tvectotal.get_feature_names())"
   ]
  },
  {
   "cell_type": "markdown",
   "metadata": {},
   "source": [
    "The vocabulary size of the unique words is 71502. We are limiting it to 10k top features."
   ]
  },
  {
   "cell_type": "code",
   "execution_count": 14,
   "metadata": {
    "id": "wIkEIuJX-uCh"
   },
   "outputs": [],
   "source": [
    "#tried with max_features: 5000, 10000, 3000, best is 10k features\n",
    "tvec = TfidfVectorizer(tokenizer=spacy_tokenizer, max_features=10000, max_df=0.3)\n",
    "\n",
    "#transforming X_train and X test\n",
    "X_train_tvec = tvec.fit_transform(X_train)\n",
    "X_val_tvec = tvec.transform(X_val)\n"
   ]
  },
  {
   "cell_type": "code",
   "execution_count": 15,
   "metadata": {
    "colab": {
     "base_uri": "https://localhost:8080/",
     "height": 35
    },
    "id": "Qu4js1OX9MFS",
    "outputId": "4777d1b6-ad61-4c7b-e3ab-31504c71e883"
   },
   "outputs": [
    {
     "data": {
      "text/plain": [
       "(5812, 10000)"
      ]
     },
     "execution_count": 15,
     "metadata": {},
     "output_type": "execute_result"
    }
   ],
   "source": [
    "X_train_tvec.shape"
   ]
  },
  {
   "cell_type": "code",
   "execution_count": 16,
   "metadata": {
    "colab": {
     "base_uri": "https://localhost:8080/",
     "height": 35
    },
    "id": "8TelYX_z9QAs",
    "outputId": "df0d6a14-6880-4974-a616-caac47fc22dd"
   },
   "outputs": [
    {
     "data": {
      "text/plain": [
       "(2863, 10000)"
      ]
     },
     "execution_count": 16,
     "metadata": {},
     "output_type": "execute_result"
    }
   ],
   "source": [
    "X_val_tvec.shape"
   ]
  },
  {
   "cell_type": "markdown",
   "metadata": {
    "id": "gAsUAuRBrZo2"
   },
   "source": [
    "## Modelling"
   ]
  },
  {
   "cell_type": "markdown",
   "metadata": {
    "id": "GYhll9FjrZpe"
   },
   "source": [
    "### User Defined Functions"
   ]
  },
  {
   "cell_type": "code",
   "execution_count": 18,
   "metadata": {
    "id": "n6nWDYM3rZpf"
   },
   "outputs": [],
   "source": [
    "def classifiermodel(X_train, y_train, X_test, y_test, model, gs=False, param=False, title=None, label=None):\n",
    "    \n",
    "    \"\"\"\"\n",
    "    Function to fit and display scores of the model, the confusion matrix and AUC ROC\n",
    "    \n",
    "    Take in Arguements:\n",
    "     - X_train, y_train, X_test, y_test - the train test split data\n",
    "     - model - the type of model to fit data\n",
    "     - gs - if the model parsed in is a grid search\n",
    "     - param - If need to print best parameters for pipe steps\n",
    "     - labels - list that model is classification\n",
    "     \n",
    "     Returns the dataframe of the predicted values and actual values\n",
    "    \"\"\"    \n",
    "    model.fit(X_train, y_train)\n",
    "    trgscore = model.score(X_train, y_train)\n",
    "    y_pred = model.predict(X_test)\n",
    "    valscore = model.score(X_test, y_test)\n",
    "    \n",
    "    #getting the probabilities of test data\n",
    "    \n",
    "    if gs:\n",
    "        best_model = model.best_estimator_\n",
    "        best_score = model.best_score_\n",
    "        best_params =  model.best_params_\n",
    "    else:\n",
    "        best_model = model\n",
    "        best_score = trgscore\n",
    "        best_params = model.get_params()\n",
    "        \n",
    "    proba = model.predict_proba(X_test)\n",
    "    proba = proba[:, 1]\n",
    "\n",
    "    print(f'======== {title} =================\\n')\n",
    "    \n",
    "    if param:\n",
    "        print('Best parameters  : ', best_params)\n",
    "        print()\n",
    "    print('Best CV  score   : ', best_score)\n",
    "    print('Training score   :', trgscore)\n",
    "    print('Validation score :', valscore)\n",
    "    print('Accuracy         :', accuracy_score(y_pred, y_test))\n",
    "    print('MCC Score        :', matthews_corrcoef(y_pred, y_test))\n",
    "    print()\n",
    "    print(classification_report(y_test, y_pred, target_names=label))\n",
    "        \n",
    "    return y_pred, proba"
   ]
  },
  {
   "cell_type": "code",
   "execution_count": 59,
   "metadata": {},
   "outputs": [],
   "source": [
    "def model_metrics(true, pred, prob, cm=False, show_df=False, title = 'Model_Metrics'):\n",
    "    \"\"\"\n",
    "    Function that calculates and returns a dataframe with classification metrics.\n",
    "    Input\n",
    "    true: true values of target variable\n",
    "    pred: predicted values of target variable\n",
    "    prob: probability of positive class \n",
    "    cm: confusion matrix will be plot if == True\n",
    "    show_df: dataframe with metrics will be displayed if == True\n",
    "    title: the column name for the dataframe that is displayed/returned\n",
    "    labels: the negative and positive class labels \n",
    "    \n",
    "    Output\n",
    "    df: dataframe with classification metrics\n",
    "    \n",
    "    \"\"\"        \n",
    "        \n",
    "    df = pd.DataFrame(data = [accuracy_score(pred, true),\n",
    "                              1- accuracy_score(pred, true),\n",
    "                              f1_score(true, pred, average='macro'),\n",
    "                              f1_score(true, pred, average='weighted'),\n",
    "                              matthews_corrcoef(true, pred)],\n",
    "                         index = ['Accuracy',\n",
    "                                  'Misclassification Rate',\n",
    "                                  'F1-Score Macro',\n",
    "                                  'F1-Score Weighted',\n",
    "                                  'Matthews Correlation'],\n",
    "                        columns = [title])\n",
    "    if show_df:\n",
    "        display(df)\n",
    "    return(df)"
   ]
  },
  {
   "cell_type": "code",
   "execution_count": 19,
   "metadata": {
    "id": "qqRA4rmLrZph"
   },
   "outputs": [],
   "source": [
    "def plot_impt_features(features_df, title, top_feat=20):\n",
    "    \n",
    "    \"\"\"\n",
    "    Function that plots the important features_df.\n",
    "    \n",
    "    Takes in arguements:\n",
    "    features _df: the list of features that had the coefficient \n",
    "    title: the title of the graph\n",
    "    top_feat: the number of top features to plot\n",
    "    \n",
    "    Output\n",
    "    Plots the graph of important features\n",
    "    \n",
    "    \"\"\"   \n",
    "    plt.figure(figsize=(12,6))\n",
    "    sns.barplot(x = features_df['feature_importance'][:top_feat], y = features_df['feature'][:top_feat], color='b')\n",
    "    plt.title(title, fontsize=18)\n",
    "    plt.xlabel('Feature importance', fontsize=14)\n",
    "    plt.xticks(size=13)\n",
    "    plt.ylabel(None)\n",
    "    plt.yticks(size=13);"
   ]
  },
  {
   "cell_type": "code",
   "execution_count": 54,
   "metadata": {
    "id": "n0vssJ4srZpl"
   },
   "outputs": [],
   "source": [
    "def show_most_informative_features(vectorizer, clf, n=20):\n",
    "    \n",
    "    \"\"\"\n",
    "    Function that shows the n most informative features.\n",
    "    \n",
    "    Takes in arguements:\n",
    "    vectorizer: vectorize in which we get our word volcabulary\n",
    "    clf: the mdel which the vector is being fed into\n",
    "    n: the number of +ve and -ve coeff to plot\n",
    "    \n",
    "    Output\n",
    "    Dataframe of positive and negative coeff\n",
    "    \n",
    "    \"\"\"   \n",
    "    \n",
    "    \n",
    "    feature_names = vectorizer.get_feature_names()\n",
    "    \n",
    "    #link the feature names with the coef_[0] -> the top coeff for positive class\n",
    "    coefs_with_fns = sorted(zip(clf.coef_[0], feature_names))\n",
    "    \n",
    "    top_pos = coefs_with_fns[:-(n + 1):-1]\n",
    "    top_neg = coefs_with_fns[:n]\n",
    "    \n",
    "    #top = list(zip(coefs_with_fns[:n], coefs_with_fns[:-(n + 1):-1]))\n",
    "    \n",
    "    #print('top_pos: ', top_pos[0])\n",
    "    #print('top_neg: ', top_neg[0])\n",
    "    \n",
    "    show_posfeat = pd.DataFrame(top_pos, columns=['positive_coeff', 'pos_feature'])\n",
    "    show_negfeat = pd.DataFrame(top_neg, columns=['negative_coeff', 'neg_feature'])\n",
    "    show_feat = show_posfeat.join(show_negfeat)\n",
    "    \n",
    "    display(show_feat)\n",
    "\n",
    "    \n",
    "    #for (coef_1, fn_1), (coef_2, fn_2) in top:\n",
    "    #    print (f\"{coef_1:.4f}\\t{fn_1}\\t\\t{coef_2:.4f}\\t{fn_2}\") \n",
    "    "
   ]
  },
  {
   "cell_type": "code",
   "execution_count": 21,
   "metadata": {
    "id": "WMep5D5oKkQN"
   },
   "outputs": [],
   "source": [
    "#Global Variables for Gridsearch\n",
    "cv = 5\n",
    "n_jobs = -1"
   ]
  },
  {
   "cell_type": "markdown",
   "metadata": {
    "id": "lgf6ysPHAqxj"
   },
   "source": [
    "### Baseline Model"
   ]
  },
  {
   "cell_type": "code",
   "execution_count": 17,
   "metadata": {
    "colab": {
     "base_uri": "https://localhost:8080/",
     "height": 312
    },
    "id": "jHJlnrWjAwgX",
    "outputId": "cb279382-e402-4b08-a253-1fd4cd82e362",
    "scrolled": true
   },
   "outputs": [
    {
     "data": {
      "text/plain": [
       "INFP   0.211\n",
       "INFJ   0.169\n",
       "INTP   0.150\n",
       "INTJ   0.126\n",
       "ENTP   0.079\n",
       "ENFP   0.078\n",
       "ISTP   0.039\n",
       "ISFP   0.031\n",
       "ENTJ   0.027\n",
       "ISTJ   0.024\n",
       "ENFJ   0.022\n",
       "ISFJ   0.019\n",
       "ESTP   0.010\n",
       "ESFP   0.006\n",
       "ESFJ   0.005\n",
       "ESTJ   0.004\n",
       "Name: type, dtype: float64"
      ]
     },
     "execution_count": 17,
     "metadata": {},
     "output_type": "execute_result"
    }
   ],
   "source": [
    "df['type'].value_counts(normalize=True)"
   ]
  },
  {
   "cell_type": "markdown",
   "metadata": {
    "id": "-UPIt5wsA13y"
   },
   "source": [
    "Based on Majority Class Baseline, baseline model is **0.211**"
   ]
  },
  {
   "cell_type": "markdown",
   "metadata": {
    "id": "FBv1h5KXrZpp"
   },
   "source": [
    "### Logistic Regression\n"
   ]
  },
  {
   "cell_type": "code",
   "execution_count": 22,
   "metadata": {
    "id": "WA9MAS4jrZpp"
   },
   "outputs": [],
   "source": [
    "lr_pipe = Pipeline([('smt', SMOTETomek(random_state = 42)), \n",
    "                    ('lr', LogisticRegression(random_state = 42, max_iter=1000))])\n",
    "\n",
    "lr_param_grid = {'lr__solver': ['liblinear'],\n",
    "                 'lr__C':[1.0], #, 0.1]\n",
    "                 'lr__penalty':['l1']}\n",
    "    \n",
    "lr_gs = GridSearchCV(lr_pipe, param_grid=lr_param_grid, cv=cv, n_jobs=n_jobs, verbose=1)"
   ]
  },
  {
   "cell_type": "code",
   "execution_count": 23,
   "metadata": {
    "colab": {
     "base_uri": "https://localhost:8080/",
     "height": 696
    },
    "id": "hCZNK_XHrZpt",
    "outputId": "cf79a0ce-3de0-4cd7-b22e-de9403b2a6f5"
   },
   "outputs": [
    {
     "name": "stdout",
     "output_type": "stream",
     "text": [
      "Fitting 5 folds for each of 1 candidates, totalling 5 fits\n"
     ]
    },
    {
     "name": "stderr",
     "output_type": "stream",
     "text": [
      "[Parallel(n_jobs=-1)]: Using backend LokyBackend with 8 concurrent workers.\n",
      "[Parallel(n_jobs=-1)]: Done   2 out of   5 | elapsed:  2.5min remaining:  3.7min\n",
      "[Parallel(n_jobs=-1)]: Done   5 out of   5 | elapsed:  2.5min finished\n"
     ]
    },
    {
     "name": "stdout",
     "output_type": "stream",
     "text": [
      "======== LogisticRegression +  TF-IDF =================\n",
      "\n",
      "Best parameters  :  {'lr__C': 1.0, 'lr__penalty': 'l1', 'lr__solver': 'liblinear'}\n",
      "\n",
      "Best CV  score   :  0.33706095725488866\n",
      "Training score   : 0.643840330350998\n",
      "Validation score : 0.35103038770520434\n",
      "Accuracy         : 0.35103038770520434\n",
      "MCC Score        : 0.2709083104972687\n",
      "\n",
      "              precision    recall  f1-score   support\n",
      "\n",
      "        infj       0.18      0.27      0.21        63\n",
      "        entp       0.33      0.39      0.36       223\n",
      "        intp       0.11      0.17      0.14        76\n",
      "        intj       0.28      0.31      0.29       226\n",
      "        entj       0.00      0.00      0.00        14\n",
      "        enfj       0.00      0.00      0.00        16\n",
      "        infp       0.04      0.08      0.06        13\n",
      "        enfp       0.04      0.07      0.05        29\n",
      "        isfp       0.48      0.35      0.41       485\n",
      "        istp       0.55      0.41      0.47       605\n",
      "        isfj       0.38      0.37      0.37       360\n",
      "        istj       0.43      0.37      0.40       430\n",
      "        estp       0.18      0.25      0.21        55\n",
      "        esfp       0.19      0.30      0.23        89\n",
      "        estj       0.20      0.25      0.22        68\n",
      "        esfj       0.24      0.36      0.29       111\n",
      "\n",
      "    accuracy                           0.35      2863\n",
      "   macro avg       0.23      0.25      0.23      2863\n",
      "weighted avg       0.39      0.35      0.36      2863\n",
      "\n"
     ]
    }
   ],
   "source": [
    "lr_pred, lr_proba = classifiermodel(X_train_tvec, y_train, X_val_tvec, y_val,\n",
    "                                    model=lr_gs, gs=True, param=True,\n",
    "                                    title='LogisticRegression +  TF-IDF', label=type_stopword)"
   ]
  },
  {
   "cell_type": "code",
   "execution_count": 61,
   "metadata": {},
   "outputs": [],
   "source": [
    "lr_m = model_metrics(y_val, lr_pred, lr_proba, cm=False, show_df=False, title = 'Logistic Reg')"
   ]
  },
  {
   "cell_type": "code",
   "execution_count": 55,
   "metadata": {
    "colab": {
     "base_uri": "https://localhost:8080/",
     "height": 364
    },
    "id": "nnhNuqOprZp0",
    "outputId": "46ae1968-e821-45ca-89e4-75e2ba665584"
   },
   "outputs": [
    {
     "data": {
      "text/html": [
       "<div>\n",
       "<style scoped>\n",
       "    .dataframe tbody tr th:only-of-type {\n",
       "        vertical-align: middle;\n",
       "    }\n",
       "\n",
       "    .dataframe tbody tr th {\n",
       "        vertical-align: top;\n",
       "    }\n",
       "\n",
       "    .dataframe thead th {\n",
       "        text-align: right;\n",
       "    }\n",
       "</style>\n",
       "<table border=\"1\" class=\"dataframe\">\n",
       "  <thead>\n",
       "    <tr style=\"text-align: right;\">\n",
       "      <th></th>\n",
       "      <th>positive_coeff</th>\n",
       "      <th>pos_feature</th>\n",
       "      <th>negative_coeff</th>\n",
       "      <th>neg_feature</th>\n",
       "    </tr>\n",
       "  </thead>\n",
       "  <tbody>\n",
       "    <tr>\n",
       "      <th>0</th>\n",
       "      <td>36.880</td>\n",
       "      <td>eggsies</td>\n",
       "      <td>-16.470</td>\n",
       "      <td>te</td>\n",
       "    </tr>\n",
       "    <tr>\n",
       "      <th>1</th>\n",
       "      <td>19.374</td>\n",
       "      <td>construction</td>\n",
       "      <td>-13.004</td>\n",
       "      <td>literally</td>\n",
       "    </tr>\n",
       "    <tr>\n",
       "      <th>2</th>\n",
       "      <td>17.855</td>\n",
       "      <td>jk</td>\n",
       "      <td>-12.853</td>\n",
       "      <td>perfectly</td>\n",
       "    </tr>\n",
       "    <tr>\n",
       "      <th>3</th>\n",
       "      <td>17.694</td>\n",
       "      <td>jawz</td>\n",
       "      <td>-11.078</td>\n",
       "      <td>weak</td>\n",
       "    </tr>\n",
       "    <tr>\n",
       "      <th>4</th>\n",
       "      <td>16.036</td>\n",
       "      <td>fe</td>\n",
       "      <td>-9.957</td>\n",
       "      <td>irritate</td>\n",
       "    </tr>\n",
       "    <tr>\n",
       "      <th>5</th>\n",
       "      <td>14.595</td>\n",
       "      <td>manipulation</td>\n",
       "      <td>-9.744</td>\n",
       "      <td>couple</td>\n",
       "    </tr>\n",
       "    <tr>\n",
       "      <th>6</th>\n",
       "      <td>14.494</td>\n",
       "      <td>pollution</td>\n",
       "      <td>-7.341</td>\n",
       "      <td>outside</td>\n",
       "    </tr>\n",
       "    <tr>\n",
       "      <th>7</th>\n",
       "      <td>14.387</td>\n",
       "      <td>lethargic</td>\n",
       "      <td>-6.896</td>\n",
       "      <td>op</td>\n",
       "    </tr>\n",
       "    <tr>\n",
       "      <th>8</th>\n",
       "      <td>14.093</td>\n",
       "      <td>hopeless</td>\n",
       "      <td>-6.667</td>\n",
       "      <td>funny</td>\n",
       "    </tr>\n",
       "    <tr>\n",
       "      <th>9</th>\n",
       "      <td>13.809</td>\n",
       "      <td>5s</td>\n",
       "      <td>-5.912</td>\n",
       "      <td>female</td>\n",
       "    </tr>\n",
       "    <tr>\n",
       "      <th>10</th>\n",
       "      <td>13.740</td>\n",
       "      <td>seeker</td>\n",
       "      <td>-5.851</td>\n",
       "      <td>order</td>\n",
       "    </tr>\n",
       "    <tr>\n",
       "      <th>11</th>\n",
       "      <td>13.185</td>\n",
       "      <td>pack</td>\n",
       "      <td>-5.794</td>\n",
       "      <td>motivation</td>\n",
       "    </tr>\n",
       "    <tr>\n",
       "      <th>12</th>\n",
       "      <td>12.674</td>\n",
       "      <td>enxj</td>\n",
       "      <td>-5.366</td>\n",
       "      <td>7</td>\n",
       "    </tr>\n",
       "    <tr>\n",
       "      <th>13</th>\n",
       "      <td>12.557</td>\n",
       "      <td>charisma</td>\n",
       "      <td>-5.340</td>\n",
       "      <td>note</td>\n",
       "    </tr>\n",
       "    <tr>\n",
       "      <th>14</th>\n",
       "      <td>12.156</td>\n",
       "      <td>considerate</td>\n",
       "      <td>-5.144</td>\n",
       "      <td>emotional</td>\n",
       "    </tr>\n",
       "    <tr>\n",
       "      <th>15</th>\n",
       "      <td>11.965</td>\n",
       "      <td>flow</td>\n",
       "      <td>-5.056</td>\n",
       "      <td>parent</td>\n",
       "    </tr>\n",
       "    <tr>\n",
       "      <th>16</th>\n",
       "      <td>11.409</td>\n",
       "      <td>deny</td>\n",
       "      <td>-5.002</td>\n",
       "      <td>god</td>\n",
       "    </tr>\n",
       "    <tr>\n",
       "      <th>17</th>\n",
       "      <td>11.299</td>\n",
       "      <td>persuasion</td>\n",
       "      <td>-4.846</td>\n",
       "      <td>description</td>\n",
       "    </tr>\n",
       "    <tr>\n",
       "      <th>18</th>\n",
       "      <td>11.257</td>\n",
       "      <td>hobo</td>\n",
       "      <td>-4.809</td>\n",
       "      <td>small</td>\n",
       "    </tr>\n",
       "    <tr>\n",
       "      <th>19</th>\n",
       "      <td>11.220</td>\n",
       "      <td>tendency</td>\n",
       "      <td>-4.351</td>\n",
       "      <td>bore</td>\n",
       "    </tr>\n",
       "  </tbody>\n",
       "</table>\n",
       "</div>"
      ],
      "text/plain": [
       "    positive_coeff   pos_feature  negative_coeff  neg_feature\n",
       "0           36.880       eggsies         -16.470           te\n",
       "1           19.374  construction         -13.004    literally\n",
       "2           17.855            jk         -12.853    perfectly\n",
       "3           17.694          jawz         -11.078         weak\n",
       "4           16.036            fe          -9.957     irritate\n",
       "5           14.595  manipulation          -9.744       couple\n",
       "6           14.494     pollution          -7.341      outside\n",
       "7           14.387     lethargic          -6.896           op\n",
       "8           14.093      hopeless          -6.667        funny\n",
       "9           13.809            5s          -5.912       female\n",
       "10          13.740        seeker          -5.851        order\n",
       "11          13.185          pack          -5.794   motivation\n",
       "12          12.674          enxj          -5.366            7\n",
       "13          12.557      charisma          -5.340         note\n",
       "14          12.156   considerate          -5.144    emotional\n",
       "15          11.965          flow          -5.056       parent\n",
       "16          11.409          deny          -5.002          god\n",
       "17          11.299    persuasion          -4.846  description\n",
       "18          11.257          hobo          -4.809        small\n",
       "19          11.220      tendency          -4.351         bore"
      ]
     },
     "metadata": {},
     "output_type": "display_data"
    }
   ],
   "source": [
    "show_most_informative_features(tvec, lr_gs.best_estimator_.steps[1][1], n=20)"
   ]
  },
  {
   "cell_type": "code",
   "execution_count": 26,
   "metadata": {
    "colab": {
     "base_uri": "https://localhost:8080/",
     "height": 235
    },
    "id": "uOrs7ww5rZp6",
    "outputId": "ec323487-ddf3-4a3d-98a4-6eadb7049c9e"
   },
   "outputs": [
    {
     "data": {
      "image/png": "[encoded data removed]",
      "text/plain": [
       "<Figure size 1080x720 with 1 Axes>"
      ]
     },
     "metadata": {},
     "output_type": "display_data"
    }
   ],
   "source": [
    "## Plot confusion matrix\n",
    "classes = np.unique(y_val)\n",
    "y_val_array = pd.get_dummies(y_val, drop_first=False).values\n",
    "\n",
    "cm = confusion_matrix(y_val, lr_pred)\n",
    "fig, ax = plt.subplots(figsize=(15,10))\n",
    "sns.heatmap(cm, annot=True, fmt='d', ax=ax, cmap=plt.cm.Blues, \n",
    "            cbar=False)\n",
    "ax.set(xlabel=\"Pred\", ylabel=\"True\", xticklabels=classes, \n",
    "       yticklabels=classes, title=\"Confusion matrix\")\n",
    "plt.yticks(rotation=0)\n",
    "\n",
    "plt.show();\n"
   ]
  },
  {
   "cell_type": "markdown",
   "metadata": {
    "id": "ONZBN_JQrZp_"
   },
   "source": [
    "### Naive Bayes "
   ]
  },
  {
   "cell_type": "code",
   "execution_count": 27,
   "metadata": {
    "id": "ZuVUrxharZp_"
   },
   "outputs": [],
   "source": [
    "nb_pipe = Pipeline([('smt', SMOTETomek(random_state = 42)), \n",
    "                    ('nb' , MultinomialNB())])\n",
    "\n",
    "nb_param_grid = {}\n",
    "    \n",
    "nb_gs = GridSearchCV(nb_pipe, param_grid=nb_param_grid, cv=cv, n_jobs=n_jobs, verbose=1)"
   ]
  },
  {
   "cell_type": "code",
   "execution_count": 28,
   "metadata": {
    "id": "coNN8GcTrZqE"
   },
   "outputs": [
    {
     "name": "stdout",
     "output_type": "stream",
     "text": [
      "Fitting 5 folds for each of 1 candidates, totalling 5 fits\n"
     ]
    },
    {
     "name": "stderr",
     "output_type": "stream",
     "text": [
      "[Parallel(n_jobs=-1)]: Using backend LokyBackend with 8 concurrent workers.\n",
      "[Parallel(n_jobs=-1)]: Done   2 out of   5 | elapsed:  1.8min remaining:  2.6min\n",
      "[Parallel(n_jobs=-1)]: Done   5 out of   5 | elapsed:  1.8min finished\n"
     ]
    },
    {
     "name": "stdout",
     "output_type": "stream",
     "text": [
      "======== Naive Bayes +  TF-IDF =================\n",
      "\n",
      "Best CV  score   :  0.3623562423135608\n",
      "Training score   : 0.7897453544390916\n",
      "Validation score : 0.3485853999301432\n",
      "Accuracy         : 0.3485853999301432\n",
      "MCC Score        : 0.258228676498026\n",
      "\n",
      "              precision    recall  f1-score   support\n",
      "\n",
      "        infj       0.13      0.24      0.17        63\n",
      "        entp       0.29      0.41      0.34       223\n",
      "        intp       0.10      0.20      0.13        76\n",
      "        intj       0.26      0.27      0.26       226\n",
      "        entj       0.00      0.00      0.00        14\n",
      "        enfj       0.00      0.00      0.00        16\n",
      "        infp       0.00      0.00      0.00        13\n",
      "        enfp       0.29      0.07      0.11        29\n",
      "        isfp       0.48      0.32      0.39       485\n",
      "        istp       0.47      0.47      0.47       605\n",
      "        isfj       0.30      0.33      0.32       360\n",
      "        istj       0.42      0.39      0.41       430\n",
      "        estp       0.21      0.20      0.20        55\n",
      "        esfp       0.23      0.21      0.22        89\n",
      "        estj       0.24      0.18      0.21        68\n",
      "        esfj       0.37      0.40      0.38       111\n",
      "\n",
      "    accuracy                           0.35      2863\n",
      "   macro avg       0.24      0.23      0.23      2863\n",
      "weighted avg       0.36      0.35      0.35      2863\n",
      "\n"
     ]
    }
   ],
   "source": [
    "nb_pred, nb_proba = classifiermodel(X_train_tvec, y_train, X_val_tvec, y_val, \n",
    "                            model=nb_gs, gs=True, param=False,\n",
    "                            title='Naive Bayes +  TF-IDF', label=type_stopword)"
   ]
  },
  {
   "cell_type": "code",
   "execution_count": 64,
   "metadata": {},
   "outputs": [],
   "source": [
    "nb_m = model_metrics(y_val, nb_pred, nb_proba, cm=False, show_df=False, title = 'Naive Bayes')"
   ]
  },
  {
   "cell_type": "code",
   "execution_count": 56,
   "metadata": {
    "id": "wMA8yJYQpY_x"
   },
   "outputs": [
    {
     "data": {
      "text/html": [
       "<div>\n",
       "<style scoped>\n",
       "    .dataframe tbody tr th:only-of-type {\n",
       "        vertical-align: middle;\n",
       "    }\n",
       "\n",
       "    .dataframe tbody tr th {\n",
       "        vertical-align: top;\n",
       "    }\n",
       "\n",
       "    .dataframe thead th {\n",
       "        text-align: right;\n",
       "    }\n",
       "</style>\n",
       "<table border=\"1\" class=\"dataframe\">\n",
       "  <thead>\n",
       "    <tr style=\"text-align: right;\">\n",
       "      <th></th>\n",
       "      <th>positive_coeff</th>\n",
       "      <th>pos_feature</th>\n",
       "      <th>negative_coeff</th>\n",
       "      <th>neg_feature</th>\n",
       "    </tr>\n",
       "  </thead>\n",
       "  <tbody>\n",
       "    <tr>\n",
       "      <th>0</th>\n",
       "      <td>-6.168</td>\n",
       "      <td>fe</td>\n",
       "      <td>-10.161</td>\n",
       "      <td>00</td>\n",
       "    </tr>\n",
       "    <tr>\n",
       "      <th>1</th>\n",
       "      <td>-6.219</td>\n",
       "      <td>haha</td>\n",
       "      <td>-10.161</td>\n",
       "      <td>00100000</td>\n",
       "    </tr>\n",
       "    <tr>\n",
       "      <th>2</th>\n",
       "      <td>-6.350</td>\n",
       "      <td>welcome</td>\n",
       "      <td>-10.161</td>\n",
       "      <td>01100101</td>\n",
       "    </tr>\n",
       "    <tr>\n",
       "      <th>3</th>\n",
       "      <td>-6.734</td>\n",
       "      <td>ni</td>\n",
       "      <td>-10.161</td>\n",
       "      <td>02</td>\n",
       "    </tr>\n",
       "    <tr>\n",
       "      <th>4</th>\n",
       "      <td>-6.794</td>\n",
       "      <td>xd</td>\n",
       "      <td>-10.161</td>\n",
       "      <td>03</td>\n",
       "    </tr>\n",
       "    <tr>\n",
       "      <th>5</th>\n",
       "      <td>-6.853</td>\n",
       "      <td>strong</td>\n",
       "      <td>-10.161</td>\n",
       "      <td>08</td>\n",
       "    </tr>\n",
       "    <tr>\n",
       "      <th>6</th>\n",
       "      <td>-6.915</td>\n",
       "      <td>hey</td>\n",
       "      <td>-10.161</td>\n",
       "      <td>101</td>\n",
       "    </tr>\n",
       "    <tr>\n",
       "      <th>7</th>\n",
       "      <td>-6.955</td>\n",
       "      <td>song</td>\n",
       "      <td>-10.161</td>\n",
       "      <td>10char</td>\n",
       "    </tr>\n",
       "    <tr>\n",
       "      <th>8</th>\n",
       "      <td>-6.971</td>\n",
       "      <td>date</td>\n",
       "      <td>-10.161</td>\n",
       "      <td>10th</td>\n",
       "    </tr>\n",
       "    <tr>\n",
       "      <th>9</th>\n",
       "      <td>-7.017</td>\n",
       "      <td>reply</td>\n",
       "      <td>-10.161</td>\n",
       "      <td>110</td>\n",
       "    </tr>\n",
       "    <tr>\n",
       "      <th>10</th>\n",
       "      <td>-7.023</td>\n",
       "      <td>boyfriend</td>\n",
       "      <td>-10.161</td>\n",
       "      <td>111</td>\n",
       "    </tr>\n",
       "    <tr>\n",
       "      <th>11</th>\n",
       "      <td>-7.030</td>\n",
       "      <td>totally</td>\n",
       "      <td>-10.161</td>\n",
       "      <td>115</td>\n",
       "    </tr>\n",
       "    <tr>\n",
       "      <th>12</th>\n",
       "      <td>-7.030</td>\n",
       "      <td>fi</td>\n",
       "      <td>-10.161</td>\n",
       "      <td>11th</td>\n",
       "    </tr>\n",
       "    <tr>\n",
       "      <th>13</th>\n",
       "      <td>-7.056</td>\n",
       "      <td>dear</td>\n",
       "      <td>-10.161</td>\n",
       "      <td>125</td>\n",
       "    </tr>\n",
       "    <tr>\n",
       "      <th>14</th>\n",
       "      <td>-7.056</td>\n",
       "      <td>hug</td>\n",
       "      <td>-10.161</td>\n",
       "      <td>12th</td>\n",
       "    </tr>\n",
       "    <tr>\n",
       "      <th>15</th>\n",
       "      <td>-7.071</td>\n",
       "      <td>s</td>\n",
       "      <td>-10.161</td>\n",
       "      <td>130</td>\n",
       "    </tr>\n",
       "    <tr>\n",
       "      <th>16</th>\n",
       "      <td>-7.099</td>\n",
       "      <td>appreciate</td>\n",
       "      <td>-10.161</td>\n",
       "      <td>135</td>\n",
       "    </tr>\n",
       "    <tr>\n",
       "      <th>17</th>\n",
       "      <td>-7.107</td>\n",
       "      <td>open</td>\n",
       "      <td>-10.161</td>\n",
       "      <td>13th</td>\n",
       "    </tr>\n",
       "    <tr>\n",
       "      <th>18</th>\n",
       "      <td>-7.117</td>\n",
       "      <td>ti</td>\n",
       "      <td>-10.161</td>\n",
       "      <td>140</td>\n",
       "    </tr>\n",
       "    <tr>\n",
       "      <th>19</th>\n",
       "      <td>-7.132</td>\n",
       "      <td>wow</td>\n",
       "      <td>-10.161</td>\n",
       "      <td>145</td>\n",
       "    </tr>\n",
       "  </tbody>\n",
       "</table>\n",
       "</div>"
      ],
      "text/plain": [
       "    positive_coeff pos_feature  negative_coeff neg_feature\n",
       "0           -6.168          fe         -10.161          00\n",
       "1           -6.219        haha         -10.161    00100000\n",
       "2           -6.350     welcome         -10.161    01100101\n",
       "3           -6.734          ni         -10.161          02\n",
       "4           -6.794          xd         -10.161          03\n",
       "5           -6.853      strong         -10.161          08\n",
       "6           -6.915         hey         -10.161         101\n",
       "7           -6.955        song         -10.161      10char\n",
       "8           -6.971        date         -10.161        10th\n",
       "9           -7.017       reply         -10.161         110\n",
       "10          -7.023   boyfriend         -10.161         111\n",
       "11          -7.030     totally         -10.161         115\n",
       "12          -7.030          fi         -10.161        11th\n",
       "13          -7.056        dear         -10.161         125\n",
       "14          -7.056         hug         -10.161        12th\n",
       "15          -7.071           s         -10.161         130\n",
       "16          -7.099  appreciate         -10.161         135\n",
       "17          -7.107        open         -10.161        13th\n",
       "18          -7.117          ti         -10.161         140\n",
       "19          -7.132         wow         -10.161         145"
      ]
     },
     "metadata": {},
     "output_type": "display_data"
    }
   ],
   "source": [
    "show_most_informative_features(tvec, nb_gs.best_estimator_.steps[1][1], n=20)"
   ]
  },
  {
   "cell_type": "markdown",
   "metadata": {
    "id": "mGAU6cgTrZqY"
   },
   "source": [
    "### Random Forest"
   ]
  },
  {
   "cell_type": "code",
   "execution_count": 32,
   "metadata": {
    "id": "5vVTUvd3EwNB"
   },
   "outputs": [],
   "source": [
    "#rf_pipe = Pipeline([('sm', SMOTE(random_state = 42)), \n",
    "#                        ('rf', RandomForestClassifier(random_state = 42, max_depth=5, min_samples_split=4, n_jobs=-2))],\n",
    "#                        verbose=1)\n",
    "\n",
    "rf_pipe = Pipeline([('smt', SMOTETomek(random_state = 42)), \n",
    "                    ('rf', RandomForestClassifier(random_state = 42))]) \n",
    "\n",
    "rf_param_grid = {\n",
    "    'rf__n_estimators': [500], #400, best is 500\n",
    "    'rf__max_depth': [7], #5, best is 7\n",
    "    'rf__min_samples_split': [4] # default=2\n",
    "    }\n",
    "    \n",
    "rf_gs = GridSearchCV(rf_pipe, param_grid=rf_param_grid, cv=cv, n_jobs=n_jobs, verbose=1)"
   ]
  },
  {
   "cell_type": "code",
   "execution_count": 33,
   "metadata": {
    "id": "UamQUTKPrZqZ"
   },
   "outputs": [
    {
     "name": "stdout",
     "output_type": "stream",
     "text": [
      "Fitting 5 folds for each of 1 candidates, totalling 5 fits\n"
     ]
    },
    {
     "name": "stderr",
     "output_type": "stream",
     "text": [
      "[Parallel(n_jobs=-1)]: Using backend LokyBackend with 8 concurrent workers.\n",
      "[Parallel(n_jobs=-1)]: Done   2 out of   5 | elapsed:  2.6min remaining:  3.8min\n",
      "[Parallel(n_jobs=-1)]: Done   5 out of   5 | elapsed:  2.6min finished\n"
     ]
    },
    {
     "name": "stdout",
     "output_type": "stream",
     "text": [
      "======== Random Forest +  TF-IDF =================\n",
      "\n",
      "Best parameters  :  {'rf__max_depth': 7, 'rf__min_samples_split': 4, 'rf__n_estimators': 500}\n",
      "\n",
      "Best CV  score   :  0.2338222562279581\n",
      "Training score   : 0.5543702684101858\n",
      "Validation score : 0.22843171498428222\n",
      "Accuracy         : 0.22843171498428222\n",
      "MCC Score        : 0.09032624014092067\n",
      "\n",
      "              precision    recall  f1-score   support\n",
      "\n",
      "        infj       0.12      0.06      0.08        63\n",
      "        entp       0.18      0.05      0.08       223\n",
      "        intp       0.12      0.13      0.12        76\n",
      "        intj       0.14      0.05      0.07       226\n",
      "        entj       0.00      0.00      0.00        14\n",
      "        enfj       0.00      0.00      0.00        16\n",
      "        infp       0.50      0.08      0.13        13\n",
      "        enfp       0.08      0.10      0.09        29\n",
      "        isfp       0.25      0.15      0.19       485\n",
      "        istp       0.26      0.67      0.38       605\n",
      "        isfj       0.21      0.08      0.12       360\n",
      "        istj       0.22      0.13      0.16       430\n",
      "        estp       0.14      0.11      0.12        55\n",
      "        esfp       0.04      0.02      0.03        89\n",
      "        estj       0.27      0.29      0.28        68\n",
      "        esfj       0.13      0.22      0.16       111\n",
      "\n",
      "    accuracy                           0.23      2863\n",
      "   macro avg       0.17      0.13      0.13      2863\n",
      "weighted avg       0.21      0.23      0.19      2863\n",
      "\n",
      "Wall time: 4min 23s\n"
     ]
    }
   ],
   "source": [
    "%%time\n",
    "rf_pred, rf_proba = classifiermodel(X_train_tvec, y_train, X_val_tvec, y_val, \n",
    "                            model=rf_gs, gs=True, param=True,\n",
    "                            title='Random Forest +  TF-IDF', label=type_stopword)\n"
   ]
  },
  {
   "cell_type": "code",
   "execution_count": 66,
   "metadata": {},
   "outputs": [],
   "source": [
    "rf_m = model_metrics(y_val, rf_pred, rf_proba, cm=False, show_df=False, title = 'Random Forest')"
   ]
  },
  {
   "cell_type": "code",
   "execution_count": 67,
   "metadata": {},
   "outputs": [
    {
     "data": {
      "text/html": [
       "<div>\n",
       "<style scoped>\n",
       "    .dataframe tbody tr th:only-of-type {\n",
       "        vertical-align: middle;\n",
       "    }\n",
       "\n",
       "    .dataframe tbody tr th {\n",
       "        vertical-align: top;\n",
       "    }\n",
       "\n",
       "    .dataframe thead th {\n",
       "        text-align: right;\n",
       "    }\n",
       "</style>\n",
       "<table border=\"1\" class=\"dataframe\">\n",
       "  <thead>\n",
       "    <tr style=\"text-align: right;\">\n",
       "      <th></th>\n",
       "      <th>Random Forest</th>\n",
       "    </tr>\n",
       "  </thead>\n",
       "  <tbody>\n",
       "    <tr>\n",
       "      <th>Accuracy</th>\n",
       "      <td>0.228</td>\n",
       "    </tr>\n",
       "    <tr>\n",
       "      <th>Misclassification Rate</th>\n",
       "      <td>0.772</td>\n",
       "    </tr>\n",
       "    <tr>\n",
       "      <th>F1-Score Macro</th>\n",
       "      <td>0.126</td>\n",
       "    </tr>\n",
       "    <tr>\n",
       "      <th>F1-Score Weighted</th>\n",
       "      <td>0.185</td>\n",
       "    </tr>\n",
       "    <tr>\n",
       "      <th>Matthews Correlation</th>\n",
       "      <td>0.090</td>\n",
       "    </tr>\n",
       "  </tbody>\n",
       "</table>\n",
       "</div>"
      ],
      "text/plain": [
       "                        Random Forest\n",
       "Accuracy                        0.228\n",
       "Misclassification Rate          0.772\n",
       "F1-Score Macro                  0.126\n",
       "F1-Score Weighted               0.185\n",
       "Matthews Correlation            0.090"
      ]
     },
     "execution_count": 67,
     "metadata": {},
     "output_type": "execute_result"
    }
   ],
   "source": [
    "rf_m"
   ]
  },
  {
   "cell_type": "code",
   "execution_count": 34,
   "metadata": {
    "id": "En6pgDl0p2k0"
   },
   "outputs": [
    {
     "data": {
      "image/png": "[encoded data removed]",
      "text/plain": [
       "<Figure size 864x432 with 1 Axes>"
      ]
     },
     "metadata": {},
     "output_type": "display_data"
    }
   ],
   "source": [
    "rf_feature_importance = rf_gs.best_estimator_.steps[1][1].feature_importances_\n",
    "\n",
    "# put feature importance into a dataframe\n",
    "rf_features_df = pd.DataFrame({'feature': tvec.get_feature_names(), \n",
    "                            'feature_importance': rf_feature_importance}).sort_values('feature_importance', ascending=False)\n",
    "\n"
   ]
  },
  {
   "cell_type": "markdown",
   "metadata": {
    "id": "t7j27zS-lC_3"
   },
   "source": [
    "### XGBoost"
   ]
  },
  {
   "cell_type": "code",
   "execution_count": 35,
   "metadata": {
    "id": "RAGzX1nslMC6"
   },
   "outputs": [],
   "source": [
    "xgb_pipe = Pipeline([('smt', SMOTETomek(random_state = 42)), \n",
    "                    ('xgb', XGBClassifier(random_state = 42))]) \n",
    "xgb_param_grid = {\n",
    "    'xgb__eval_metric' : ['merror'], #\n",
    "    'xgb__subsample' : [0.5], # Randomly sample 0.5 of the data to prevent overfitting\n",
    "    'xgb__colsample_bytree' : [0.5], # Typical values range between 0.5-0.9\n",
    "    'xgb__learning_rate' : [.01], # common to have small values in the range of 0.1 to 0.3, as well as values less than 0.1\n",
    "    'xgb__n_estimators' : [100], #500\n",
    "    'xgb__reg_alpha' : [0.01], # L1 regularization term on weight \n",
    "    'xgb__gamma' : [0.1], # Gamma specifies the minimum loss reduction required to make a split #.2\n",
    "}\n",
    "    \n",
    "xgb_gs = GridSearchCV(xgb_pipe, param_grid=xgb_param_grid, cv=cv, n_jobs=n_jobs, verbose=1)"
   ]
  },
  {
   "cell_type": "code",
   "execution_count": 36,
   "metadata": {
    "id": "SK0Sh2wwtMNt",
    "scrolled": false
   },
   "outputs": [
    {
     "name": "stdout",
     "output_type": "stream",
     "text": [
      "Fitting 5 folds for each of 1 candidates, totalling 5 fits\n"
     ]
    },
    {
     "name": "stderr",
     "output_type": "stream",
     "text": [
      "[Parallel(n_jobs=-1)]: Using backend LokyBackend with 8 concurrent workers.\n",
      "[Parallel(n_jobs=-1)]: Done   2 out of   5 | elapsed: 14.1min remaining: 21.2min\n",
      "[Parallel(n_jobs=-1)]: Done   5 out of   5 | elapsed: 14.2min finished\n"
     ]
    },
    {
     "name": "stdout",
     "output_type": "stream",
     "text": [
      "======== XGBoost +  TF-IDF =================\n",
      "\n",
      "Best parameters  :  {'xgb__colsample_bytree': 0.5, 'xgb__eval_metric': 'merror', 'xgb__gamma': 0.1, 'xgb__learning_rate': 0.01, 'xgb__n_estimators': 100, 'xgb__reg_alpha': 0.01, 'xgb__subsample': 0.5}\n",
      "\n",
      "Best CV  score   :  0.282518946933786\n",
      "Training score   : 0.4003785271851342\n",
      "Validation score : 0.2808243101641635\n",
      "Accuracy         : 0.2808243101641635\n",
      "MCC Score        : 0.14830331518333656\n",
      "\n",
      "              precision    recall  f1-score   support\n",
      "\n",
      "        infj       0.32      0.14      0.20        63\n",
      "        entp       0.33      0.12      0.18       223\n",
      "        intp       0.16      0.08      0.11        76\n",
      "        intj       0.25      0.13      0.17       226\n",
      "        entj       0.00      0.00      0.00        14\n",
      "        enfj       0.00      0.00      0.00        16\n",
      "        infp       0.20      0.08      0.11        13\n",
      "        enfp       0.00      0.00      0.00        29\n",
      "        isfp       0.33      0.24      0.28       485\n",
      "        istp       0.26      0.73      0.39       605\n",
      "        isfj       0.31      0.09      0.13       360\n",
      "        istj       0.38      0.24      0.29       430\n",
      "        estp       0.14      0.07      0.10        55\n",
      "        esfp       0.12      0.04      0.07        89\n",
      "        estj       0.37      0.28      0.32        68\n",
      "        esfj       0.22      0.13      0.16       111\n",
      "\n",
      "    accuracy                           0.28      2863\n",
      "   macro avg       0.21      0.15      0.16      2863\n",
      "weighted avg       0.29      0.28      0.24      2863\n",
      "\n",
      "Wall time: 22min 58s\n"
     ]
    }
   ],
   "source": [
    "%%time\n",
    "xgb_pred, xgb_proba = classifiermodel(X_train_tvec, y_train, X_val_tvec, y_val, \n",
    "                            model=xgb_gs, gs=True, param=True,\n",
    "                            title='XGBoost +  TF-IDF', label=type_stopword)"
   ]
  },
  {
   "cell_type": "code",
   "execution_count": 68,
   "metadata": {},
   "outputs": [],
   "source": [
    "xgb_m = model_metrics(y_val, xgb_pred, xgb_proba, cm=False, show_df=False, title = 'XGBoost')"
   ]
  },
  {
   "cell_type": "code",
   "execution_count": 69,
   "metadata": {},
   "outputs": [
    {
     "data": {
      "text/html": [
       "<div>\n",
       "<style scoped>\n",
       "    .dataframe tbody tr th:only-of-type {\n",
       "        vertical-align: middle;\n",
       "    }\n",
       "\n",
       "    .dataframe tbody tr th {\n",
       "        vertical-align: top;\n",
       "    }\n",
       "\n",
       "    .dataframe thead th {\n",
       "        text-align: right;\n",
       "    }\n",
       "</style>\n",
       "<table border=\"1\" class=\"dataframe\">\n",
       "  <thead>\n",
       "    <tr style=\"text-align: right;\">\n",
       "      <th></th>\n",
       "      <th>XGBoost</th>\n",
       "    </tr>\n",
       "  </thead>\n",
       "  <tbody>\n",
       "    <tr>\n",
       "      <th>Accuracy</th>\n",
       "      <td>0.281</td>\n",
       "    </tr>\n",
       "    <tr>\n",
       "      <th>Misclassification Rate</th>\n",
       "      <td>0.719</td>\n",
       "    </tr>\n",
       "    <tr>\n",
       "      <th>F1-Score Macro</th>\n",
       "      <td>0.156</td>\n",
       "    </tr>\n",
       "    <tr>\n",
       "      <th>F1-Score Weighted</th>\n",
       "      <td>0.242</td>\n",
       "    </tr>\n",
       "    <tr>\n",
       "      <th>Matthews Correlation</th>\n",
       "      <td>0.148</td>\n",
       "    </tr>\n",
       "  </tbody>\n",
       "</table>\n",
       "</div>"
      ],
      "text/plain": [
       "                        XGBoost\n",
       "Accuracy                  0.281\n",
       "Misclassification Rate    0.719\n",
       "F1-Score Macro            0.156\n",
       "F1-Score Weighted         0.242\n",
       "Matthews Correlation      0.148"
      ]
     },
     "execution_count": 69,
     "metadata": {},
     "output_type": "execute_result"
    }
   ],
   "source": [
    "xgb_m"
   ]
  },
  {
   "cell_type": "markdown",
   "metadata": {},
   "source": [
    "### Summary of Model Performance"
   ]
  },
  {
   "cell_type": "code",
   "execution_count": 70,
   "metadata": {},
   "outputs": [
    {
     "data": {
      "text/html": [
       "<div>\n",
       "<style scoped>\n",
       "    .dataframe tbody tr th:only-of-type {\n",
       "        vertical-align: middle;\n",
       "    }\n",
       "\n",
       "    .dataframe tbody tr th {\n",
       "        vertical-align: top;\n",
       "    }\n",
       "\n",
       "    .dataframe thead th {\n",
       "        text-align: right;\n",
       "    }\n",
       "</style>\n",
       "<table border=\"1\" class=\"dataframe\">\n",
       "  <thead>\n",
       "    <tr style=\"text-align: right;\">\n",
       "      <th></th>\n",
       "      <th>Logistic Reg</th>\n",
       "      <th>Naive Bayes</th>\n",
       "      <th>Random Forest</th>\n",
       "      <th>XGBoost</th>\n",
       "    </tr>\n",
       "  </thead>\n",
       "  <tbody>\n",
       "    <tr>\n",
       "      <th>Accuracy</th>\n",
       "      <td>0.351</td>\n",
       "      <td>0.349</td>\n",
       "      <td>0.228</td>\n",
       "      <td>0.281</td>\n",
       "    </tr>\n",
       "    <tr>\n",
       "      <th>Misclassification Rate</th>\n",
       "      <td>0.649</td>\n",
       "      <td>0.651</td>\n",
       "      <td>0.772</td>\n",
       "      <td>0.719</td>\n",
       "    </tr>\n",
       "    <tr>\n",
       "      <th>F1-Score Macro</th>\n",
       "      <td>0.232</td>\n",
       "      <td>0.225</td>\n",
       "      <td>0.126</td>\n",
       "      <td>0.156</td>\n",
       "    </tr>\n",
       "    <tr>\n",
       "      <th>F1-Score Weighted</th>\n",
       "      <td>0.364</td>\n",
       "      <td>0.352</td>\n",
       "      <td>0.185</td>\n",
       "      <td>0.242</td>\n",
       "    </tr>\n",
       "    <tr>\n",
       "      <th>Matthews Correlation</th>\n",
       "      <td>0.271</td>\n",
       "      <td>0.258</td>\n",
       "      <td>0.090</td>\n",
       "      <td>0.148</td>\n",
       "    </tr>\n",
       "  </tbody>\n",
       "</table>\n",
       "</div>"
      ],
      "text/plain": [
       "                        Logistic Reg  Naive Bayes  Random Forest  XGBoost\n",
       "Accuracy                       0.351        0.349          0.228    0.281\n",
       "Misclassification Rate         0.649        0.651          0.772    0.719\n",
       "F1-Score Macro                 0.232        0.225          0.126    0.156\n",
       "F1-Score Weighted              0.364        0.352          0.185    0.242\n",
       "Matthews Correlation           0.271        0.258          0.090    0.148"
      ]
     },
     "execution_count": 70,
     "metadata": {},
     "output_type": "execute_result"
    }
   ],
   "source": [
    "lst_metrics = [lr_m, nb_m, rf_m, xgb_m]\n",
    "combine_metrics = pd.concat((items for items in lst_metrics), axis=1, join='inner')\n",
    "combine_metrics.reset_index().rename(columns={combine_metrics.index.name:'metrics'})  \n",
    "\n",
    "combine_metrics"
   ]
  },
  {
   "cell_type": "markdown",
   "metadata": {},
   "source": [
    "The multiclass classifications are not performing well wtih the best model Logistic Regression with only 36% accuracy and 0.23 F1 Score. Though it is still a little better than our baseline model, this is not deployable since it will only predict 35% correct most of the time, and mainly from the majority class (INFP class). \n",
    "\n",
    "As such, we will use another approach: Creating 4 binary models to classify the types based the 4 axes. \n",
    "Code in this [notebook](Capstone_Personality_Prediction_Binary_Modelling.ipynb)"
   ]
  }
 ],
 "metadata": {
  "colab": {
   "collapsed_sections": [
    "n2JH0VOSrZo1",
    "oIPRC-QPrZo1",
    "UwcI4pjirZo2",
    "GYhll9FjrZpe",
    "FBv1h5KXrZpp",
    "ONZBN_JQrZp_",
    "ecsl7JTdrZqL",
    "mGAU6cgTrZqY"
   ],
   "name": "Capstone - Personality Prediction - Multiclass Modelling.ipynb",
   "provenance": [],
   "toc_visible": true
  },
  "kernelspec": {
   "display_name": "Python 3",
   "language": "python",
   "name": "python3"
  },
  "language_info": {
   "codemirror_mode": {
    "name": "ipython",
    "version": 3
   },
   "file_extension": ".py",
   "mimetype": "text/x-python",
   "name": "python",
   "nbconvert_exporter": "python",
   "pygments_lexer": "ipython3",
   "version": "3.7.6"
  },
  "toc": {
   "base_numbering": 1,
   "nav_menu": {},
   "number_sections": false,
   "sideBar": true,
   "skip_h1_title": true,
   "title_cell": "Table of Contents",
   "title_sidebar": "Contents",
   "toc_cell": true,
   "toc_position": {
    "height": "calc(100% - 180px)",
    "left": "10px",
    "top": "150px",
    "width": "165px"
   },
   "toc_section_display": true,
   "toc_window_display": true
  }
 },
 "nbformat": 4,
 "nbformat_minor": 1
}
